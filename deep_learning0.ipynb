import numpy as np
import pandas as pd
import matplotlib.pyplot as plt
import seaborn as sns
from sklearn.datasets import load_diabetes
from sklearn.model_selection import train_test_split
from sklearn.preprocessing import StandardScaler
from sklearn.metrics import mean_squared_error, r2_score
from tensorflow.keras.models import Sequential
from tensorflow.keras.layers import Dense
from tensorflow.keras.optimizers import Adam

# 1. Loading and Preprocessing (4 marks)
# Load the Diabetes dataset
diabetes = load_diabetes()
X = pd.DataFrame(data=diabetes.data, columns=diabetes.feature_names)
y = pd.Series(data=diabetes.target, name="Target")

# Check for missing values
if X.isnull().sum().sum() > 0:
    print("Missing values found. Handling missing values...")
    X.fillna(X.mean(), inplace=True)

# Normalize the features
scaler = StandardScaler()
X_scaled = scaler.fit_transform(X)

# 2. Exploratory Data Analysis (EDA) (4 marks)
# Visualize the target variable
plt.figure(figsize=(8, 6))
sns.histplot(y, kde=True, color="blue", bins=30)
plt.title("Distribution of Target Variable")
plt.xlabel("Target")
plt.ylabel("Frequency")
plt.show()

# Visualize relationships between features and the target
plt.figure(figsize=(12, 10))
for i, column in enumerate(X.columns):
    plt.subplot(4, 3, i + 1)
    plt.scatter(X[column], y, alpha=0.5)
    plt.title(f"{column} vs Target")
    plt.xlabel(column)
    plt.ylabel("Target")
plt.tight_layout()
plt.show()

# 3. Building the ANN Model (4 marks)
# Define a simple ANN architecture
model = Sequential([
    Dense(64, activation='relu', input_shape=(X_scaled.shape[1],)),
    Dense(32, activation='relu'),
    Dense(1)  # Output layer for regression
])

# Compile the model
model.compile(optimizer=Adam(learning_rate=0.01), loss='mse', metrics=['mae'])

# 4. Training the ANN Model (4 marks)
# Split the dataset
X_train, X_test, y_train, y_test = train_test_split(X_scaled, y, test_size=0.2, random_state=42)

# Train the model
history = model.fit(X_train, y_train, epochs=100, batch_size=16, validation_split=0.1, verbose=1)

# Plot training history
plt.figure(figsize=(8, 6))
plt.plot(history.history['loss'], label='Training Loss')
plt.plot(history.history['val_loss'], label='Validation Loss')
plt.title("Training and Validation Loss")
plt.xlabel("Epoch")
plt.ylabel("Loss")
plt.legend()
plt.show()

# 5. Evaluating the Model (3 marks)
# Evaluate the model on the test set
y_pred = model.predict(X_test).flatten()
mse = mean_squared_error(y_test, y_pred)
r2 = r2_score(y_test, y_pred)

print(f"Mean Squared Error: {mse:.2f}")
print(f"R² Score: {r2:.2f}")

# 6. Improving the Model (5 marks)
# Experiment with different architectures and hyperparameters
improved_model = Sequential([
    Dense(128, activation='relu', input_shape=(X_scaled.shape[1],)),
    Dense(64, activation='relu'),
    Dense(32, activation='relu'),
    Dense(1)
])

# Compile the improved model
improved_model.compile(optimizer=Adam(learning_rate=0.005), loss='mse', metrics=['mae'])

# Train the improved model
improved_history = improved_model.fit(X_train, y_train, epochs=150, batch_size=32, validation_split=0.1, verbose=1)

# Evaluate the improved model
y_improved_pred = improved_model.predict(X_test).flatten()
improved_mse = mean_squared_error(y_test, y_improved_pred)
improved_r2 = r2_score(y_test, y_improved_pred)

print(f"Improved Mean Squared Error: {improved_mse:.2f}")
print(f"Improved R² Score: {improved_r2:.2f}")

# Compare performance
print("\nPerformance Comparison:")
print(f"Original Model - MSE: {mse:.2f}, R²: {r2:.2f}")
print(f"Improved Model - MSE: {improved_mse:.2f}, R²: {improved_r2:.2f}")

# Plot comparison of predictions
plt.figure(figsize=(8, 6))
plt.scatter(y_test, y_pred, alpha=0.6, label="Original Predictions")
plt.scatter(y_test, y_improved_pred, alpha=0.6, label="Improved Predictions", color="orange")
plt.plot([y_test.min(), y_test.max()], [y_test.min(), y_test.max()], color="red", linestyle="--")
plt.title("Actual vs Predicted")
plt.xlabel("Actual Target")
plt.ylabel("Predicted Target")
plt.legend()
plt.show()
